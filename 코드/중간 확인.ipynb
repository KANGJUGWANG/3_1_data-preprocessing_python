{
 "cells": [
  {
   "cell_type": "code",
   "execution_count": 1,
   "id": "31bd584e",
   "metadata": {},
   "outputs": [
    {
     "name": "stdout",
     "output_type": "stream",
     "text": [
      "Collecting numpy\n",
      "Note: you may need to restart the kernel to use updated packages.\n",
      "  Downloading numpy-1.19.5-cp36-cp36m-win_amd64.whl (13.2 MB)\n",
      "Installing collected packages: numpy\n",
      "Successfully installed numpy-1.19.5\n"
     ]
    }
   ],
   "source": [
    "pip install numpy"
   ]
  },
  {
   "cell_type": "code",
   "execution_count": 2,
   "id": "4c9f9fd7",
   "metadata": {},
   "outputs": [
    {
     "name": "stdout",
     "output_type": "stream",
     "text": [
      "Collecting pandas\n",
      "Note: you may need to restart the kernel to use updated packages.\n",
      "  Downloading pandas-1.1.5-cp36-cp36m-win_amd64.whl (8.7 MB)\n",
      "Requirement already satisfied: numpy>=1.15.4 in c:\\users\\rkdwn\\anaconda3\\envs\\py_3_1\\lib\\site-packages (from pandas) (1.19.5)\n",
      "Requirement already satisfied: pytz>=2017.2 in c:\\users\\rkdwn\\anaconda3\\envs\\py_3_1\\lib\\site-packages (from pandas) (2025.2)\n",
      "Requirement already satisfied: python-dateutil>=2.7.3 in c:\\users\\rkdwn\\anaconda3\\envs\\py_3_1\\lib\\site-packages (from pandas) (2.9.0.post0)\n",
      "Requirement already satisfied: six>=1.5 in c:\\users\\rkdwn\\anaconda3\\envs\\py_3_1\\lib\\site-packages (from python-dateutil>=2.7.3->pandas) (1.17.0)\n",
      "Installing collected packages: pandas\n",
      "Successfully installed pandas-1.1.5\n"
     ]
    }
   ],
   "source": [
    "pip install pandas"
   ]
  },
  {
   "cell_type": "code",
   "execution_count": 2,
   "id": "be480a4b",
   "metadata": {},
   "outputs": [],
   "source": [
    "import numpy as np #배열\n",
    "import pandas as pd #데이터 프레임"
   ]
  },
  {
   "cell_type": "code",
   "execution_count": 3,
   "id": "1e544d90",
   "metadata": {},
   "outputs": [
    {
     "data": {
      "text/plain": [
       "(True, False)"
      ]
     },
     "execution_count": 3,
     "metadata": {},
     "output_type": "execute_result"
    }
   ],
   "source": [
    "## 데이터 타입 \n",
    "# 숫자(integer)\n",
    "1,1.1,-1,0\n",
    "# 문자(charter)\n",
    "\"asvd\"\n",
    "# 논리형(boolean)\n",
    "True, False"
   ]
  },
  {
   "cell_type": "code",
   "execution_count": 21,
   "id": "09cccdff",
   "metadata": {},
   "outputs": [
    {
     "name": "stdout",
     "output_type": "stream",
     "text": [
      "<class 'int'> <class 'str'> <class 'tuple'>\n",
      "<class 'list'> <class 'tuple'> <class 'list'> <class 'int'>\n",
      "   이름  정보\n",
      "0   1  11\n",
      "1   2  22\n",
      "2   3  33\n",
      "3   4  44\n",
      "4   5  55\n",
      "(2, 1)\n"
     ]
    }
   ],
   "source": [
    "## 변수 타입 base\n",
    "# 스칼라(단일 타입, 단일 값 , 단일 차원0)\n",
    "# 하위구조가 없는 가장 간단한 형태의 데이터\n",
    "a=1\n",
    "b=a\n",
    "c=True\n",
    "\n",
    "# 튜플(복수타입, 복수값, 복수 차원,수정 불가능)\n",
    "# 리스트와 동일하게 저장 가능하지만 저장이후 수정이 불가함\n",
    "a1=(1,2)\n",
    "b2 = (\"a\",\"b\")\n",
    "c2 = (True, False)\n",
    "d2 = (1, True)\n",
    "e2 = (1,(1,2))\n",
    "aa = (1,2,\"3\")\n",
    "print(type(aa[0]),type(aa[2]), type(aa))\n",
    "# 리스트(복수타입, 복수값, 복수차원,수정 가능)\n",
    "# 타입 상관없이 그룹화하여 저장 가능한 데이터 타입\n",
    "a2 = [1,2,3]\n",
    "b2 = [\"aa\", \"print\", \"hello\"]\n",
    "c2 = [True, False]\n",
    "d2= [\"a\",[1,[True]]]\n",
    "e2 =[aa,a2, a]\n",
    "print(type(e2), type(e2[0]), type(e2[1]),type(e2[2]))\n",
    "# 딕셔너리(복수타입, 복수값, 복수차원(행렬), 수정 가능) \n",
    "# 키값-벨류값이 1대1 대응되는 데이터 타입 \n",
    "a3= {\"이름\" : 1 , \"정보\" : 11}\n",
    "b3= {\"이름\" : [1,2,3,4,5] , \"정보\" : [11,22,33,44,55]}\n",
    "c3 = {\"이름\" : [21,12,1], \"정보\" : [1,2]}\n",
    "## 변수 타입(numpy)\n",
    "# 배열(array) : (단일타입, 복수값, 단일 차원, 수정 가능)\n",
    "array = np.array((1,2,3,4,5))\n",
    "array1 = np.array([1,2,3,4,5])\n",
    "x = [\"132\",123]\n",
    "array2 = np.array(x)\n",
    "\n",
    "## 변수타입(pands)\n",
    "# 데이터 프레임(DataFream) : (복수타입, 복수값, 복수차원, 수정 가능)\n",
    "df1 = pd.DataFrame(a1)# 튜플\n",
    "df2 = pd.DataFrame(a2)# 리스트\n",
    "df2 = pd.DataFrame(b3[\"이름\"])#딕셔너리\n",
    "df3 = pd.DataFrame(array)\n",
    "df4 = pd.DataFrame(b3)\n",
    "print(df4)\n",
    "print(df1.shape)"
   ]
  },
  {
   "cell_type": "code",
   "execution_count": 7,
   "id": "6121e80e",
   "metadata": {},
   "outputs": [],
   "source": [
    "## 인덱싱\n",
    "# 복수의 데이터(문자열, 배열, 리스트, 튜플, 데이터 프레임)를 가지는 변수타입은\n",
    "# 특정 값에 접근하는 방법으로 0부터 순서대로 인덱스값을 가진다\n",
    "\n",
    "#인덱싱\n",
    "a1[0]\n",
    "a2[0]\n",
    "a22 = a2[-1:]\n"
   ]
  },
  {
   "cell_type": "code",
   "execution_count": 8,
   "id": "5647f7a5",
   "metadata": {},
   "outputs": [
    {
     "data": {
      "text/plain": [
       "(1, 3, 2)"
      ]
     },
     "execution_count": 8,
     "metadata": {},
     "output_type": "execute_result"
    }
   ],
   "source": [
    "np.array([[[1,2], [4,5], [7,8]]]).shape"
   ]
  },
  {
   "cell_type": "code",
   "execution_count": 23,
   "id": "869e2a04",
   "metadata": {},
   "outputs": [
    {
     "name": "stdout",
     "output_type": "stream",
     "text": [
      "내일은 시험이 있는 날 입니다. ['내일은 시험이 있는 날 입니다.']\n",
      "\n",
      "--------\n",
      "\n",
      "오늘은 시험이 있는 날 입니다.\n",
      "2\n",
      "['내일은 시험이 있는 날 입니다.', ' 재수강은 안됩니다.']\n",
      "['내일은 시험이 있는 날 입니다.']\n",
      "['시험은 싫지만', '내일은 시험이 있는 날 입니다.']\n",
      "\n",
      "--------\n",
      "\n",
      "['시험은 싫습니다.']\n",
      "['시험은 싫습니다.' '정말 싫습니다.']\n",
      "['시험은 싫습니다.' '정말 정말 싫습니' '정말 싫습니다.']\n",
      "['시험은 싫습니다.']\n",
      "[['시험은 싫습니다.']\n",
      " ['시험은 싫습니다.']]\n",
      "[['시험은 싫습니다.' '시험은 싫습니다.']\n",
      " ['시험은 싫습니다.' '시험은 싫습니다.']]\n",
      "\n",
      "--------\n",
      "\n",
      "{'이름': ['하나', '둘', '셋'], '번호': [1, 2, 3]}\n",
      "['하나', '둘', '셋']\n",
      "하나\n",
      "{'이름': array(['하나', '둘', '셋'], dtype='<U2'), '번호': array([11, 22, 33])}\n",
      "['하나' '둘' '셋']\n",
      "하나\n",
      "['둘']\n",
      "\n",
      "--------\n",
      "\n",
      "     CODE\n",
      "0       R\n",
      "1  PYTHON\n",
      "2    JAVA\n",
      "3       C\n",
      "4     SQL\n",
      "   이름  번호\n",
      "0  하나   1\n",
      "1   둘   2\n",
      "2   셋   3\n",
      "Index(['이름', '번호'], dtype='object')\n",
      "이름    object\n",
      "번호     int64\n",
      "dtype: object\n",
      "        번호\n",
      "count  3.0\n",
      "mean   2.0\n",
      "std    1.0\n",
      "min    1.0\n",
      "25%    1.5\n",
      "50%    2.0\n",
      "75%    2.5\n",
      "max    3.0\n",
      "   이름  번호\n",
      "0  하나   1\n",
      "1   둘   2\n",
      "2   셋   3\n",
      "   이름  번호\n",
      "0  하나   1\n",
      "1   둘   2\n",
      "2   셋   3\n",
      "x3_2 = pd.read_csv(,head = [None,0],encoding=\"cp949,euc-kr,utf-8\")\n"
     ]
    }
   ],
   "source": [
    "## 함수정리\n",
    "# 배열 생성\n",
    "arr = np.array([1,2,3])\n",
    "# 데이터 프레임 생성\n",
    "df = pd.DataFrame([[1,2,3],[2,3,4]],columns=[\"11\",\"22\",\"33\"])\n",
    "\n",
    "x= \"내일은 시험이 있는 날 입니다.\"\n",
    "y=[\"내일은 시험이 있는 날 입니다.\"]\n",
    "print(x, y)\n",
    "\n",
    "\n",
    "print(\"\\n--------\\n\")\n",
    "# 인덱싱 활용함수 (base)\n",
    "print(x.replace(\"내일\", \"오늘\"))#    **************\n",
    "print(x.index(\"은\"))\n",
    "y.append(\" 재수강은 안됩니다.\")\n",
    "print(y)\n",
    "y.pop(y.index(\" 재수강은 안됩니다.\"))\n",
    "print(y)\n",
    "y.insert(0,\"시험은 싫지만\")\n",
    "print(y)\n",
    "\n",
    "\n",
    "print(\"\\n--------\\n\")\n",
    "#인덱싱 활용함수(array)\n",
    "x1=np.array([\"시험은 싫습니다.\"])# 생성\n",
    "print(x1)\n",
    "x1 =np.append(x1,\"정말 싫습니다.\")# 말단 추가\n",
    "print(x1)\n",
    "x1 =np.insert(x1,1,\"정말 정말 싫습니다.\")# 중간 추가\n",
    "print(x1)\n",
    "x1 =np.delete(x1,[1,2])# 지정 삭제#    **************\n",
    "print(x1)\n",
    "x1_1 = np.vstack((x1,x1))#    **************\n",
    "print(x1_1)\n",
    "x1_2 = np.hstack((x1_1, x1_1))#    **************\n",
    "print(x1_2)\n",
    "\n",
    "\n",
    "print(\"\\n--------\\n\")\n",
    "# 딕셔너리 사용함수\n",
    "x2 = {\"이름\":[\"하나\",\"둘\",\"셋\"], \"번호\" :[1,2,3]}\n",
    "print(x2)\n",
    "print(x2[\"이름\"])\n",
    "print(x2[\"이름\"][0])\n",
    "x2_1  = {\"이름\" : np.array([\"하나\",\"둘\",\"셋\"]), \"번호\":np.array([11,22,33])}\n",
    "print(x2_1)\n",
    "print(x2_1[\"이름\"])\n",
    "print(x2_1[\"이름\"][0])\n",
    "print(x2_1[\"이름\"][x2_1[\"이름\"]==\"둘\"])\n",
    "del x2_1[\"번호\"]#    **************\n",
    "\n",
    "\n",
    "print(\"\\n--------\\n\")\n",
    "# DataFrame사용함수\n",
    "x3 = pd.DataFrame([\"R\",\"PYTHON\",\"JAVA\",\"C\",\"SQL\"],columns=[\"CODE\"])\n",
    "print(x3)\n",
    "x3_1 = pd.DataFrame(x2)\n",
    "print(x3_1)\n",
    "print(x3_1.columns)#    **************\n",
    "print(x3_1.dtypes)# type <-x , dtypes <-o    **************\n",
    "print(x3_1.describe())#num 만 가능    **************\n",
    "print(x3_1.head())\n",
    "print(x3_1.tail())\n",
    "\n",
    "print(\"x3_2 = pd.read_csv(\"\",head = [None,0],encoding=\\\"cp949,euc-kr,utf-8\\\")\")"
   ]
  },
  {
   "cell_type": "code",
   "execution_count": 24,
   "id": "7e785170",
   "metadata": {},
   "outputs": [
    {
     "ename": "SyntaxError",
     "evalue": "EOL while scanning string literal (<ipython-input-24-5ef3c7d84134>, line 2)",
     "output_type": "error",
     "traceback": [
      "\u001b[1;36m  File \u001b[1;32m\"<ipython-input-24-5ef3c7d84134>\"\u001b[1;36m, line \u001b[1;32m2\u001b[0m\n\u001b[1;33m    \"패키지의 버전 충돌 문제를 해결하기 위해 프로젝트별 가상환경으로 지역을 구분하여 패키지의 버전을 관리한다\u001b[0m\n\u001b[1;37m                                                               ^\u001b[0m\n\u001b[1;31mSyntaxError\u001b[0m\u001b[1;31m:\u001b[0m EOL while scanning string literal\n"
     ]
    }
   ],
   "source": [
    "\"파이썬을 그냥 사용하는게 아닌 가상환경과 커널을 사용하는 이유\"\n",
    "\"패키지의 버전 충돌 문제를 해결하기 위해 프로젝트별 가상환경으로 지역을 구분하여 패키지의 버전을 관리한다\n",
    "\"커널을사용하여 주피터 노트북환경에서 가상환경 전환을 쉽게 할수있도록 도와준다\"\n",
    "\"conda evn list\"\n",
    "\"conda create -n 이름 python=버전\"\n",
    "\"conda activate 이름\"\n",
    "\"스칼라, 튜블, 리스트, 딕셔너리\"\n",
    "\"numpy 배열\"\n",
    "\"pandas 데이터 프레임\"\n",
    "\n",
    "\"스칼라 : 하위구조가 없는 가장 간단한 데이터 타입\"\n",
    "\"리스트 : 복수타입, 복수의 데이터를 가질수있는 데이터 타입\"\n",
    "\"튜플 : 리스트와 동일한 구조를 가지지만 생성이후 수정이 불가능한 타입\"\n",
    "\"딕셔너리 : 키값과 벨류값으로 구성되는 행렬,복수 타입 복수값을 가질수 있다.\"\n",
    "\"배열 : numpy패키지로 사용하며 단일 타입, 복수값을 가질수있으며 연산에 용의하다\"\n",
    "\"데이터 프레임 : 행과 열로 구성되어 복수타입, 복수값을 가질수있다. 수정및 활용에 용의하다\"\n",
    "\"replace, index, pop, insert, append\"\n",
    "\"np.append, np.delete, np.insert, type, hstack, vstack\"\n"
   ]
  },
  {
   "cell_type": "code",
   "execution_count": null,
   "id": "32c25c98",
   "metadata": {},
   "outputs": [],
   "source": []
  }
 ],
 "metadata": {
  "kernelspec": {
   "display_name": "'test'",
   "language": "python",
   "name": "test"
  },
  "language_info": {
   "codemirror_mode": {
    "name": "ipython",
    "version": 3
   },
   "file_extension": ".py",
   "mimetype": "text/x-python",
   "name": "python",
   "nbconvert_exporter": "python",
   "pygments_lexer": "ipython3",
   "version": "3.6.13"
  }
 },
 "nbformat": 4,
 "nbformat_minor": 5
}
