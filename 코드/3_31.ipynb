{
 "cells": [
  {
   "cell_type": "code",
   "execution_count": 3,
   "id": "d0d5ba4c",
   "metadata": {},
   "outputs": [
    {
     "name": "stdout",
     "output_type": "stream",
     "text": [
      "Requirement already satisfied: numpy in c:\\users\\pc502\\anaconda3\\envs\\kang\\lib\\site-packages (1.19.5)\n",
      "Note: you may need to restart the kernel to use updated packages.\n"
     ]
    }
   ],
   "source": [
    "pip install numpy"
   ]
  },
  {
   "cell_type": "code",
   "execution_count": 4,
   "id": "84466155",
   "metadata": {},
   "outputs": [],
   "source": [
    "import numpy as np"
   ]
  },
  {
   "cell_type": "code",
   "execution_count": 6,
   "id": "4162923f",
   "metadata": {},
   "outputs": [
    {
     "data": {
      "text/plain": [
       "(2, 3)"
      ]
     },
     "execution_count": 6,
     "metadata": {},
     "output_type": "execute_result"
    }
   ],
   "source": [
    "## 배열의 쉐입(차원, 크기)확인\n",
    "a = np.array([[1,2,3],[4,5,6]])\n",
    "a.shape"
   ]
  },
  {
   "cell_type": "code",
   "execution_count": 18,
   "id": "1d6c66c2",
   "metadata": {},
   "outputs": [
    {
     "name": "stdout",
     "output_type": "stream",
     "text": [
      "안녕하세요 지금은 \n"
     ]
    }
   ],
   "source": [
    "A = \"안녕하세요 지금은 데이터 전처리 수업 시간입니다.\"\n",
    "str=A[:5] + A[5:10]\n",
    "print(character)"
   ]
  },
  {
   "cell_type": "code",
   "execution_count": 19,
   "id": "6e35ed7f",
   "metadata": {},
   "outputs": [
    {
     "name": "stdout",
     "output_type": "stream",
     "text": [
      "이번 시험에서 수학은 100점 영어는 60점 합은 160점 맞았습니다.\n"
     ]
    }
   ],
   "source": [
    "수학 = 100\n",
    "영어  = 60\n",
    "합 = 수학 + 영어\n",
    "print((\"이번 시험에서 수학은 {}점 영어는 {}점 합은 {}점 맞았습니다.\").format(수학, 영어,합))"
   ]
  },
  {
   "cell_type": "code",
   "execution_count": 20,
   "id": "5d9a24ad",
   "metadata": {},
   "outputs": [
    {
     "name": "stdout",
     "output_type": "stream",
     "text": [
      "3.14, 3.142\n"
     ]
    }
   ],
   "source": [
    "print((\"{:.2f}, {:.3f}\").format(3.1415, 3.1415))"
   ]
  },
  {
   "cell_type": "code",
   "execution_count": 32,
   "id": "e392db1f",
   "metadata": {},
   "outputs": [
    {
     "name": "stdout",
     "output_type": "stream",
     "text": [
      " www.youtube.com/\n",
      "https:www.youtube.com\n"
     ]
    }
   ],
   "source": [
    "url= \" https://www.youtube.com/\"\n",
    "str = url.replace(\"https://\",\"\")\n",
    "print(str)\n",
    "str = \"https://www.youtube.com/\".replace(\"/\",\"\")\n",
    "print(str)"
   ]
  },
  {
   "cell_type": "code",
   "execution_count": 38,
   "id": "6c4213ac",
   "metadata": {},
   "outputs": [
    {
     "data": {
      "text/plain": [
       "70"
      ]
     },
     "execution_count": 38,
     "metadata": {},
     "output_type": "execute_result"
    }
   ],
   "source": [
    "A = [10,20,30,40,50,60,70,80,90]\n",
    "A[0] + A[5]"
   ]
  },
  {
   "cell_type": "code",
   "execution_count": 62,
   "id": "2305e4d8",
   "metadata": {},
   "outputs": [
    {
     "name": "stdout",
     "output_type": "stream",
     "text": [
      "독고영재\n"
     ]
    }
   ],
   "source": [
    "a = [\"독고영재, 50, 55\", \"김철수, 30\"]\n",
    "b = [\"김철수,20\",\"김영희, 25\"]\n",
    "print(a[0][:a[0].index(\",\")])"
   ]
  },
  {
   "cell_type": "code",
   "execution_count": 63,
   "id": "ee3d11ad",
   "metadata": {},
   "outputs": [
    {
     "name": "stdout",
     "output_type": "stream",
     "text": [
      "리스트 전체 타입 : <class 'list'>\n",
      "리스트 원소1 : <class 'int'>\n",
      "리스트 원소2 : <class 'str'>\n",
      "리스트 원소3 : <class 'float'>\n"
     ]
    }
   ],
   "source": [
    "a = [\"hi\", 10, \"80\", \"김철수\", 50,50.6]\n",
    "print(f\"리스트 전체 타입 : {type(a)}\")\n",
    "print(f\"리스트 원소1 : {type(a[1])}\")\n",
    "print(f\"리스트 원소2 : {type(a[3])}\")\n",
    "print(f\"리스트 원소3 : {type(a[5])}\")"
   ]
  },
  {
   "cell_type": "code",
   "execution_count": 70,
   "id": "ba12e93c",
   "metadata": {},
   "outputs": [
    {
     "name": "stdout",
     "output_type": "stream",
     "text": [
      "['hi', 10, '80', '김철수', 50, 50.6, '종강', 1]\n"
     ]
    }
   ],
   "source": [
    "a = [\"hi\", 10, \"80\", \"김철수\", 50,50.6]\n",
    "a.append(\"종강\")\n",
    "a.append(1)\n",
    "print(a)"
   ]
  },
  {
   "cell_type": "code",
   "execution_count": 76,
   "id": "b9c6551d",
   "metadata": {},
   "outputs": [
    {
     "name": "stdout",
     "output_type": "stream",
     "text": [
      "['hi', '80', '김철수', 50, 50.6, '종강', 1]\n",
      "3\n",
      "['hi', '80', '김철수', 50.6, '종강', 1]\n"
     ]
    }
   ],
   "source": [
    "b = a[:]\n",
    "b.pop(1)\n",
    "print(b)\n",
    "print(b.index(50))\n",
    "b.pop(b.index(50))\n",
    "print(b)"
   ]
  },
  {
   "cell_type": "code",
   "execution_count": 84,
   "id": "85f42304",
   "metadata": {},
   "outputs": [
    {
     "name": "stdout",
     "output_type": "stream",
     "text": [
      "[1 2 3 4 4 5]\n",
      "[1 7 8 2 3 4 4 5]\n",
      "[ 1  7  8 10 11  2  3  4  4  5]\n"
     ]
    }
   ],
   "source": [
    "a= np.array([1,2,3,4])\n",
    "a= np.append(a,[4,5])## 말단 삽입\n",
    "print(a)\n",
    "a = np.insert(a, 1, [7,8])## 중간 삽입\n",
    "print(a)\n",
    "a = np.insert(a, 3, [10,11])## 중간 삽입\n",
    "print(a)"
   ]
  },
  {
   "cell_type": "code",
   "execution_count": 89,
   "id": "f786f7ee",
   "metadata": {},
   "outputs": [
    {
     "data": {
      "text/plain": [
       "array([1, 3, 5])"
      ]
     },
     "execution_count": 89,
     "metadata": {},
     "output_type": "execute_result"
    }
   ],
   "source": [
    "a = np.array([1,2,3,4,5])\n",
    "a = np.delete(a,[1,3])\n",
    "a"
   ]
  },
  {
   "cell_type": "code",
   "execution_count": 90,
   "id": "be8ba25d",
   "metadata": {},
   "outputs": [
    {
     "name": "stdout",
     "output_type": "stream",
     "text": [
      "[1 3]\n",
      "[1 3 5]\n"
     ]
    }
   ],
   "source": [
    "a1= a[a<=4]\n",
    "print(a1)\n",
    "a2 = a[a!=4]\n",
    "print(a2)"
   ]
  },
  {
   "cell_type": "code",
   "execution_count": 92,
   "id": "3296fdac",
   "metadata": {},
   "outputs": [
    {
     "name": "stdout",
     "output_type": "stream",
     "text": [
      "[[1 2]\n",
      " [3 4]\n",
      " [5 6]\n",
      " [7 8]]\n"
     ]
    }
   ],
   "source": [
    "array1 = np.array([[1,2],[3,4]])\n",
    "array2 = np.array([[5,6],[7,8]])\n",
    "merged_array = np.vstack((array1, array2))\n",
    "print(merged_array)"
   ]
  },
  {
   "cell_type": "code",
   "execution_count": 94,
   "id": "29067336",
   "metadata": {},
   "outputs": [
    {
     "name": "stdout",
     "output_type": "stream",
     "text": [
      "[[1 2 5 6]\n",
      " [3 4 7 8]]\n"
     ]
    }
   ],
   "source": [
    "array1 = np.array([[1,2],[3,4]])\n",
    "array2 = np.array([[5,6],[7,8]])\n",
    "merged_array = np.hstack((array1, array2))\n",
    "print(merged_array)"
   ]
  },
  {
   "cell_type": "code",
   "execution_count": 101,
   "id": "e3b3098a",
   "metadata": {},
   "outputs": [
    {
     "name": "stdout",
     "output_type": "stream",
     "text": [
      "김철수\n",
      "None\n"
     ]
    }
   ],
   "source": [
    "A = {1:\"김철수\", 20: \"박영희\"}\n",
    "print(A[1]) ## 없는 키 입력시 keyError\n",
    "print(A.get(2))"
   ]
  },
  {
   "cell_type": "code",
   "execution_count": null,
   "id": "14d7d34f",
   "metadata": {},
   "outputs": [],
   "source": [
    "A = {\"1\":\"김철수\", 20: \"박영희\"}\n",
    "print(A[1]) ## 없는 키 입력시 keyError\n",
    "print(A.get(2))"
   ]
  }
 ],
 "metadata": {
  "kernelspec": {
   "display_name": "KANG",
   "language": "python",
   "name": "kang"
  },
  "language_info": {
   "codemirror_mode": {
    "name": "ipython",
    "version": 3
   },
   "file_extension": ".py",
   "mimetype": "text/x-python",
   "name": "python",
   "nbconvert_exporter": "python",
   "pygments_lexer": "ipython3",
   "version": "3.6.13"
  }
 },
 "nbformat": 4,
 "nbformat_minor": 5
}
