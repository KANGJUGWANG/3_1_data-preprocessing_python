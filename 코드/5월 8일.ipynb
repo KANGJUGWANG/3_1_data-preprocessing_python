{
 "cells": [
  {
   "cell_type": "code",
   "execution_count": 5,
   "id": "c002a041-1794-4baa-94db-dabeae8d01b1",
   "metadata": {},
   "outputs": [
    {
     "name": "stdout",
     "output_type": "stream",
     "text": [
      "Requirement already satisfied: pandas in c:\\users\\user\\anaconda3\\lib\\site-packages (2.1.4)\n",
      "Requirement already satisfied: numpy<2,>=1.23.2 in c:\\users\\user\\anaconda3\\lib\\site-packages (from pandas) (1.26.4)\n",
      "Requirement already satisfied: python-dateutil>=2.8.2 in c:\\users\\user\\anaconda3\\lib\\site-packages (from pandas) (2.8.2)\n",
      "Requirement already satisfied: pytz>=2020.1 in c:\\users\\user\\anaconda3\\lib\\site-packages (from pandas) (2023.3.post1)\n",
      "Requirement already satisfied: tzdata>=2022.1 in c:\\users\\user\\anaconda3\\lib\\site-packages (from pandas) (2023.3)\n",
      "Requirement already satisfied: six>=1.5 in c:\\users\\user\\anaconda3\\lib\\site-packages (from python-dateutil>=2.8.2->pandas) (1.16.0)\n",
      "Note: you may need to restart the kernel to use updated packages.\n"
     ]
    }
   ],
   "source": [
    "pip install pandas\n"
   ]
  },
  {
   "cell_type": "code",
   "execution_count": 4,
   "id": "55187092-aecc-47ff-8ab4-15fd50888c3b",
   "metadata": {},
   "outputs": [],
   "source": [
    "import pandas as pd "
   ]
  },
  {
   "cell_type": "code",
   "execution_count": 12,
   "id": "8d8e9ca5-cbab-4a7e-ad50-27c0048d3659",
   "metadata": {},
   "outputs": [
    {
     "name": "stdout",
     "output_type": "stream",
     "text": [
      "     국어  영어    수학 체육\n",
      "0  50.0  88  21.0  상\n",
      "1  41.0  87  54.0  중\n",
      "2  85.0  65  84.0  상\n",
      "3  61.0  85  13.0  중\n",
      "4  54.0  41  21.0  하\n",
      "5  84.0  47  87.0  하\n",
      "6  77.0  98  65.0  상\n",
      "7  87.0  58   NaN  중\n",
      "8   NaN  22  78.0  하\n"
     ]
    }
   ],
   "source": [
    "df = pd.read_csv(\"C:/Users/User/Downloads/국영수/국영수2.csv\", encoding ='cp949')\n",
    "print(df)"
   ]
  },
  {
   "cell_type": "code",
   "execution_count": 17,
   "id": "caedb36e-eb0d-4816-b9a7-f9e5e40e9bcb",
   "metadata": {},
   "outputs": [
    {
     "data": {
      "text/plain": [
       "'\\n데이터 프레임\\n\\n'"
      ]
     },
     "execution_count": 17,
     "metadata": {},
     "output_type": "execute_result"
    }
   ],
   "source": [
    "\"\"\"\n",
    "데이터 프레임\n",
    "\n",
    "\"\"\""
   ]
  },
  {
   "cell_type": "code",
   "execution_count": 26,
   "id": "6cac9e8f-21e2-433c-b8ad-736270cbd1f4",
   "metadata": {},
   "outputs": [
    {
     "name": "stdout",
     "output_type": "stream",
     "text": [
      "(9, 4)\n",
      "Index(['국어', '영어', '수학', '체육'], dtype='object')\n",
      "국어    float64\n",
      "영어      int64\n",
      "수학    float64\n",
      "체육     object\n",
      "dtype: object\n",
      "              국어         영어         수학\n",
      "count   8.000000   9.000000   8.000000\n",
      "mean   67.375000  65.666667  52.875000\n",
      "std    18.054976  25.729361  30.554109\n",
      "min    41.000000  22.000000  13.000000\n",
      "25%    53.000000  47.000000  21.000000\n",
      "50%    69.000000  65.000000  59.500000\n",
      "75%    84.250000  87.000000  79.500000\n",
      "max    87.000000  98.000000  87.000000\n",
      "     국어  영어    수학 체육\n",
      "0  50.0  88  21.0  상\n",
      "1  41.0  87  54.0  중\n",
      "2  85.0  65  84.0  상\n",
      "3  61.0  85  13.0  중\n",
      "4  54.0  41  21.0  하\n",
      "     국어  영어    수학 체육\n",
      "4  54.0  41  21.0  하\n",
      "5  84.0  47  87.0  하\n",
      "6  77.0  98  65.0  상\n",
      "7  87.0  58   NaN  중\n",
      "8   NaN  22  78.0  하\n",
      "국어    1\n",
      "영어    0\n",
      "수학    1\n",
      "체육    0\n",
      "dtype: int64\n"
     ]
    },
    {
     "data": {
      "text/plain": [
       "array(['상', '중', '하'], dtype=object)"
      ]
     },
     "execution_count": 26,
     "metadata": {},
     "output_type": "execute_result"
    }
   ],
   "source": [
    "print(df.shape) #차원 확인 \n",
    "print(df.columns)# 변수 확인 \n",
    "print(df.dtypes)# 변수 타입 확인\n",
    "print(df.describe())# 수치형 볁수들에 대한 요약\n",
    "print(df.head())# 위에서 5개의 값 도출\n",
    "print(df.tail())# 하위 5개의 값 도출\n",
    "## 결측값 확인 \n",
    "print(df.isnull().sum()) # dataframe의 총 결측값\n",
    "## 카테고리 변수의 분포\n",
    "df['체육'].value_counts()# 카테고리 변수가 어떻게 분포 되는지\n",
    "\n",
    "df['체육'].unique()# 카테고리 변수가 어떤 요소로 구성된건지 구성 요소"
   ]
  },
  {
   "cell_type": "code",
   "execution_count": 28,
   "id": "62f6299d-de92-478d-bb4e-39fd0a73eae0",
   "metadata": {},
   "outputs": [
    {
     "name": "stdout",
     "output_type": "stream",
     "text": [
      "   국어  영어  수학 체육\n",
      "0  50  88  21  상\n",
      "1  41  87  54  중\n",
      "2  85  65  84  상\n",
      "3  61  85  13  중\n",
      "4  54  41  21  하\n",
      "5  84  47  87  하\n",
      "6  77  98  65  상\n",
      "7  87  58  54  중\n",
      "8  54  22  78  하\n"
     ]
    }
   ],
   "source": [
    "df = pd.read_csv(\"C:/Users/User/Downloads/국영수/국영수.csv\", encoding ='cp949')\n",
    "print(df)"
   ]
  },
  {
   "cell_type": "code",
   "execution_count": 33,
   "id": "a62163c0-0a31-4fc0-b4b8-6bd8a47c6a1c",
   "metadata": {},
   "outputs": [
    {
     "name": "stdout",
     "output_type": "stream",
     "text": [
      "   국어  영어  수학 체육  total\n",
      "0  50  88  21  상    109\n",
      "1  41  87  54  중    141\n",
      "2  85  65  84  상    149\n",
      "3  61  85  13  중     98\n",
      "4  54  41  21  하     62\n",
      "5  84  47  87  하    134\n",
      "6  77  98  65  상    163\n",
      "7  87  58  54  중    112\n",
      "8  54  22  78  하    100\n"
     ]
    }
   ],
   "source": [
    "## dataframe에 새로운 칼럼(변수)추가 \n",
    "df['total'] = df['수학'] + df['영어']\n",
    "print(df)"
   ]
  },
  {
   "cell_type": "code",
   "execution_count": 37,
   "id": "c6c86c68-77dc-41a2-8609-26cb6fe7d4a3",
   "metadata": {},
   "outputs": [
    {
     "name": "stdout",
     "output_type": "stream",
     "text": [
      "0    50\n",
      "1    41\n",
      "2    85\n",
      "3    61\n",
      "4    54\n",
      "5    84\n",
      "6    77\n",
      "7    87\n",
      "8    54\n",
      "Name: 국어, dtype: int64\n",
      "   수학  영어  total\n",
      "0  21  88    109\n",
      "1  54  87    141\n",
      "2  84  65    149\n",
      "3  13  85     98\n",
      "4  21  41     62\n",
      "5  87  47    134\n",
      "6  65  98    163\n",
      "7  54  58    112\n",
      "8  78  22    100\n"
     ]
    }
   ],
   "source": [
    "## df 변수 추출 방법 1\n",
    "# 1변수(칼럼) 추출\n",
    "print(df['국어'])\n",
    "# 다변수 리스트로 추출\n",
    "columns = ['수학','영어','total']\n",
    "selected_columns = df[columns]\n",
    "print(selected_columns)"
   ]
  },
  {
   "cell_type": "code",
   "execution_count": 52,
   "id": "358d5226-9034-4161-bc07-a7f6bc7c47fd",
   "metadata": {},
   "outputs": [
    {
     "name": "stdout",
     "output_type": "stream",
     "text": [
      "0    50\n",
      "1    41\n",
      "2    85\n",
      "3    61\n",
      "4    54\n",
      "5    84\n",
      "6    77\n",
      "7    87\n",
      "8    54\n",
      "Name: 국어, dtype: int64\n",
      "0    88\n",
      "1    87\n",
      "2    65\n",
      "3    85\n",
      "4    41\n",
      "5    47\n",
      "6    98\n",
      "7    58\n",
      "8    22\n",
      "Name: 영어, dtype: int64\n",
      "   수학  영어  total\n",
      "0  21  88    109\n",
      "1  54  87    141\n",
      "2  84  65    149\n",
      "3  13  85     98\n",
      "4  21  41     62\n",
      "5  87  47    134\n",
      "6  65  98    163\n",
      "7  54  58    112\n",
      "8  78  22    100\n",
      "   국어  영어  수학\n",
      "0  50  88  21\n",
      "1  41  87  54\n",
      "2  85  65  84\n",
      "3  61  85  13\n",
      "4  54  41  21\n",
      "5  84  47  87\n",
      "6  77  98  65\n",
      "7  87  58  54\n",
      "8  54  22  78\n"
     ]
    }
   ],
   "source": [
    "## df 변수 추출 방법 2\n",
    "# 1변수 추출\n",
    "print(df.loc[:,'국어'])##변수명\n",
    "print(df.iloc[:,1])## 변수 위치\n",
    "# 다변수 추출 ????\n",
    "columns = ['수학','영어','total']\n",
    "print(df.loc[:,columns])##변수명\n",
    "print(df.iloc[:,[0,1,2]])## 변수 위치"
   ]
  },
  {
   "cell_type": "code",
   "execution_count": 49,
   "id": "a3f75ae3-2447-4da7-86da-f801b534fc4a",
   "metadata": {},
   "outputs": [
    {
     "data": {
      "text/plain": [
       "0    50\n",
       "1    41\n",
       "2    85\n",
       "3    61\n",
       "4    54\n",
       "5    84\n",
       "6    77\n",
       "7    87\n",
       "8    54\n",
       "Name: 국어, dtype: int64"
      ]
     },
     "execution_count": 49,
     "metadata": {},
     "output_type": "execute_result"
    }
   ],
   "source": [
    "## 변수 개별값 추출(리스트 인덱싱과 코드상 동일함)\n",
    "df['국어'][:]"
   ]
  }
 ],
 "metadata": {
  "kernelspec": {
   "display_name": "Python 3 (ipykernel)",
   "language": "python",
   "name": "python3"
  },
  "language_info": {
   "codemirror_mode": {
    "name": "ipython",
    "version": 3
   },
   "file_extension": ".py",
   "mimetype": "text/x-python",
   "name": "python",
   "nbconvert_exporter": "python",
   "pygments_lexer": "ipython3",
   "version": "3.11.7"
  }
 },
 "nbformat": 4,
 "nbformat_minor": 5
}
