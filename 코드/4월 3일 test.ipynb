{
 "cells": [
  {
   "cell_type": "code",
   "execution_count": 2,
   "id": "134ce479-71ff-4b9b-b3f9-8510c76783a9",
   "metadata": {},
   "outputs": [
    {
     "name": "stdout",
     "output_type": "stream",
     "text": [
      "50\n"
     ]
    }
   ],
   "source": [
    "\"\"\"\n",
    "1) a라는 변수에 숫자 20을 할당하고, b라는 변수에 숫자 30을 할당해 a와 b의 합을 프린트하시오\n",
    "\"\"\"\n",
    "a = 20\n",
    "b = 30\n",
    "print(a+b)"
   ]
  },
  {
   "cell_type": "code",
   "execution_count": 4,
   "id": "d0c183f8-a8d6-4273-bc74-7bb3bd275125",
   "metadata": {},
   "outputs": [
    {
     "name": "stdout",
     "output_type": "stream",
     "text": [
      "안녕하세요 강주광님 데이터전처리 수업에 오신것을 환영합니다.\n"
     ]
    }
   ],
   "source": [
    "\"\"\"\n",
    "2) 이름 name이란 변수에 저장하고, fromat함수를 활용해 아래의 문장을 생성하시오.(\"본인의 이름\"이 나오도록)\n",
    "\"\"\"\n",
    "name = \"강주광\"\n",
    "print(\"안녕하세요 {}님 데이터전처리 수업에 오신것을 환영합니다.\".format(name))"
   ]
  },
  {
   "cell_type": "code",
   "execution_count": 6,
   "id": "71074357-d48a-463b-bc9d-56f353fa1fdb",
   "metadata": {},
   "outputs": [
    {
     "name": "stdout",
     "output_type": "stream",
     "text": [
      "Collecting numpy\n",
      "  Using cached numpy-1.24.4-cp38-cp38-win_amd64.whl.metadata (5.6 kB)\n",
      "Using cached numpy-1.24.4-cp38-cp38-win_amd64.whl (14.9 MB)\n",
      "Installing collected packages: numpy\n",
      "Successfully installed numpy-1.24.4\n",
      "Note: you may need to restart the kernel to use updated packages.\n"
     ]
    }
   ],
   "source": [
    "pip install numpy"
   ]
  },
  {
   "cell_type": "code",
   "execution_count": 14,
   "id": "75512813-ba8c-4290-813a-0c717ebae551",
   "metadata": {},
   "outputs": [
    {
     "name": "stdout",
     "output_type": "stream",
     "text": [
      "리스트 :  [1, 5, 5, 7, 3, 6, 88, 12, 5, 74, 4, 8, 64, 2, 7, 89, 33, 1, 6, 8, 1, 5, 6, 7]\n",
      "배열 :  [ 1  5  5  7  3  6 88 12  5 74  4  8 64  2  7 89 33  1  6  8  1  5  6  7]\n"
     ]
    }
   ],
   "source": [
    "\"\"\"\n",
    "3) 아래의 값들을 하나의 리스트에 저장하고, 리스트와 배열을 각가 생성하시오.\n",
    "\"\"\"\n",
    "import numpy as np\n",
    "data = [1,5,5,7,3,6,88,12,5,74,4,8,64,2,7,89,33,1,6,8,1,5,6,7]\n",
    "li = data[:]\n",
    "ar = np.array(data)\n",
    "print(\"리스트 : \",li)\n",
    "print(\"배열 : \",ar)\n"
   ]
  },
  {
   "cell_type": "code",
   "execution_count": 25,
   "id": "56714fad-4153-4f2a-92e0-a5cee535ae1b",
   "metadata": {},
   "outputs": [
    {
     "name": "stdout",
     "output_type": "stream",
     "text": [
      "[ 7 93 17 12 77]\n"
     ]
    }
   ],
   "source": [
    "\"\"\"\n",
    "4)해당 배열에서 1번째부터 5번째 값과 6번째 부터 10번째 값을 각가 추출해 더하시오.\n",
    "\"\"\"\n",
    "a = ar[:5]\n",
    "b= ar[5:10]\n",
    "print(a +b)"
   ]
  },
  {
   "cell_type": "code",
   "execution_count": 26,
   "id": "243bed0b-9426-49cd-b1fb-ca399223e0b0",
   "metadata": {},
   "outputs": [
    {
     "name": "stdout",
     "output_type": "stream",
     "text": [
      "6\n"
     ]
    }
   ],
   "source": [
    "\"\"\"\n",
    "5)위에 저장된 리스트 값들 중 88에 해당하는 리스트의 위치 index를 도출하시오.\n",
    "\"\"\"\n",
    "print(data.index(88))"
   ]
  },
  {
   "cell_type": "code",
   "execution_count": 33,
   "id": "b2028f92-081f-435a-8748-152981a7d9d0",
   "metadata": {},
   "outputs": [
    {
     "name": "stdout",
     "output_type": "stream",
     "text": [
      "결과 :  Lee\n"
     ]
    }
   ],
   "source": [
    "\"\"\"\n",
    "6) 주어진 이름으로 리스트를 만들고 index함수를 사용해 \"Lee\"란 결과를 도출하시오.\n",
    "\"\"\"\n",
    "data = [\"Jone-30\",\"Park-30\",\"Kim-20\",\"Lee-10\",\"Oh-32\",\"Kang-25\"]\n",
    "print(\"결과 1 : \",data[data.index(\"Lee-10\")][:3])"
   ]
  },
  {
   "cell_type": "code",
   "execution_count": 42,
   "id": "d1540050-2592-4ee7-9eba-17501d4b22c1",
   "metadata": {},
   "outputs": [
    {
     "name": "stdout",
     "output_type": "stream",
     "text": [
      "결과1 :  데이터 전처리 수업 입니다.\n",
      "결과2 :   Data preprocesing\n"
     ]
    }
   ],
   "source": [
    "\"\"\"\n",
    "7)문자열이 저장된 리스트를 만들고 각각의 리스트의 값들을 수정해 아래와 같이 변경하시오.\n",
    "\"\"\"\n",
    "str_list = [\"데이터 전처리 수업, 입니다.\" ,\" Data Preprocesing\"]\n",
    "str1 = str_list[0].replace(\",\",\"\") \n",
    "str2 = str_list[1].replace(\"P\",\"p\")\n",
    "print(\"결과1 : \",str1)\n",
    "print(\"결과2 : \",str2)"
   ]
  }
 ],
 "metadata": {
  "kernelspec": {
   "display_name": "KANGJUGWANG",
   "language": "python",
   "name": "kangjugwang"
  },
  "language_info": {
   "codemirror_mode": {
    "name": "ipython",
    "version": 3
   },
   "file_extension": ".py",
   "mimetype": "text/x-python",
   "name": "python",
   "nbconvert_exporter": "python",
   "pygments_lexer": "ipython3",
   "version": "3.8.20"
  }
 },
 "nbformat": 4,
 "nbformat_minor": 5
}
