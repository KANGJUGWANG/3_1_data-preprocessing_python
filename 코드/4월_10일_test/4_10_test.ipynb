{
 "cells": [
  {
   "cell_type": "code",
   "execution_count": 12,
   "id": "4fc46966-4110-4e3f-b223-c1f12ea82b7c",
   "metadata": {},
   "outputs": [
    {
     "name": "stdout",
     "output_type": "stream",
     "text": [
      "[1, 2, 5, 6, 7, 8, 9, 10]\n"
     ]
    }
   ],
   "source": [
    "\"\"\"\n",
    "1.[1,100,2,5,6,7,8,9]의 리스트를 만들고 해당 리스트 아래와 같이 변경하시오.\n",
    "\"\"\"\n",
    "list = [1,100,2,5,6,7,8,9]\n",
    "list.pop(1)\n",
    "list.append(10)\n",
    "print(list)"
   ]
  },
  {
   "cell_type": "code",
   "execution_count": 21,
   "id": "d88b8b66-7cf0-46da-b623-d88e9fec3d5f",
   "metadata": {},
   "outputs": [
    {
     "name": "stdout",
     "output_type": "stream",
     "text": [
      "Requirement already satisfied: numpy in c:\\users\\user\\anaconda3\\envs\\kangjugwang\\lib\\site-packages (1.24.4)\n",
      "Note: you may need to restart the kernel to use updated packages.\n"
     ]
    }
   ],
   "source": [
    "pip install numpy\n"
   ]
  },
  {
   "cell_type": "code",
   "execution_count": 22,
   "id": "cfd724e3-0969-447e-acc5-e033b27cca15",
   "metadata": {},
   "outputs": [],
   "source": [
    "import numpy as np"
   ]
  },
  {
   "cell_type": "code",
   "execution_count": 42,
   "id": "285ea7b9-ef20-42a5-9bb4-a6a4cf925b77",
   "metadata": {},
   "outputs": [
    {
     "name": "stdout",
     "output_type": "stream",
     "text": [
      "[ 1  2  3  4  5  6  7  8  9 10 11]\n"
     ]
    }
   ],
   "source": [
    "\"\"\"\n",
    "2. 1번의 리스트를 배열로 만들어 아래와 같이 변경하시오\n",
    "\"\"\"\n",
    "arr = np.array(list)\n",
    "arr = np.insert(arr, 2, [3,4])\n",
    "arr = np.append(arr,11)\n",
    "print(arr)"
   ]
  },
  {
   "cell_type": "code",
   "execution_count": 43,
   "id": "842b8685-c742-48cc-a43a-cdb96a17d625",
   "metadata": {},
   "outputs": [
    {
     "name": "stdout",
     "output_type": "stream",
     "text": [
      "[ 5  6  7  8  9 10 11] \n",
      " [1 2 3 4]\n"
     ]
    }
   ],
   "source": [
    "'''\n",
    "3. 2번의 배열에서 5보다 작거나 같은 값을 추출해 A라는 변수에 저장하고, 4보다 작거나 같은 값들을 B라는 변수에 저장하시오.\n",
    "'''\n",
    "A = arr[arr[:]>=5]\n",
    "B = arr[arr[:] <=4]\n",
    "print(A,\"\\n\",B)"
   ]
  },
  {
   "cell_type": "code",
   "execution_count": 51,
   "id": "8580cdf5-23bf-4ba1-9296-aec3fe7097d1",
   "metadata": {},
   "outputs": [
    {
     "name": "stdout",
     "output_type": "stream",
     "text": [
      "['이태민 교수님', '황득영 교수님', '권세진 교수님', '장영관 교수님', '김창균 교수님']\n",
      "['0335706378', '0335706376', '0335706377', '0335706585', '0335706587']\n"
     ]
    }
   ],
   "source": [
    "\"\"\"\n",
    "4. AI 소프트웨어 학과 교수님 이름 5명과 사무실 전화번호 5개를 하나의 딕셔너리로 만드시오.\n",
    "\"\"\"\n",
    "AI = {\"교수님 성함\" : [\"이태민 교수님\",\"황득영 교수님\",\"권세진 교수님\",\"장영관 교수님\",\"김창균 교수님\"], \"사무실 전화번호\" : [\"0335706378\",\"0335706376\",\"0335706377\"\n",
    ",\"0335706585\",\"0335706587\"]}\n",
    "\n",
    "print(AI[\"교수님 성함\"])\n",
    "print(AI[\"사무실 전화번호\"])"
   ]
  },
  {
   "cell_type": "code",
   "execution_count": 39,
   "id": "858a29b7-9580-4645-b4d1-89a66916153c",
   "metadata": {},
   "outputs": [
    {
     "name": "stdout",
     "output_type": "stream",
     "text": [
      "Collecting pandasNote: you may need to restart the kernel to use updated packages.\n",
      "\n",
      "  Downloading pandas-2.0.3-cp38-cp38-win_amd64.whl.metadata (18 kB)\n",
      "Requirement already satisfied: python-dateutil>=2.8.2 in c:\\users\\user\\anaconda3\\envs\\kangjugwang\\lib\\site-packages (from pandas) (2.9.0.post0)\n",
      "Collecting pytz>=2020.1 (from pandas)\n",
      "  Downloading pytz-2025.2-py2.py3-none-any.whl.metadata (22 kB)\n",
      "Collecting tzdata>=2022.1 (from pandas)\n",
      "  Downloading tzdata-2025.2-py2.py3-none-any.whl.metadata (1.4 kB)\n",
      "Requirement already satisfied: numpy>=1.20.3 in c:\\users\\user\\anaconda3\\envs\\kangjugwang\\lib\\site-packages (from pandas) (1.24.4)\n",
      "Requirement already satisfied: six>=1.5 in c:\\users\\user\\anaconda3\\envs\\kangjugwang\\lib\\site-packages (from python-dateutil>=2.8.2->pandas) (1.17.0)\n",
      "Downloading pandas-2.0.3-cp38-cp38-win_amd64.whl (10.8 MB)\n",
      "   ---------------------------------------- 0.0/10.8 MB ? eta -:--:--\n",
      "   ---------------------------------------  10.7/10.8 MB 61.3 MB/s eta 0:00:01\n",
      "   ---------------------------------------- 10.8/10.8 MB 39.7 MB/s eta 0:00:00\n",
      "Downloading pytz-2025.2-py2.py3-none-any.whl (509 kB)\n",
      "Downloading tzdata-2025.2-py2.py3-none-any.whl (347 kB)\n",
      "Installing collected packages: pytz, tzdata, pandas\n",
      "Successfully installed pandas-2.0.3 pytz-2025.2 tzdata-2025.2\n"
     ]
    }
   ],
   "source": [
    "pip install pandas"
   ]
  },
  {
   "cell_type": "code",
   "execution_count": 40,
   "id": "715366d8-7e6b-4d86-8406-95be85f3cb8f",
   "metadata": {},
   "outputs": [],
   "source": [
    "import pandas as pd"
   ]
  },
  {
   "cell_type": "code",
   "execution_count": 59,
   "id": "e2a4aa83-0413-47ea-9166-eff2d42750d3",
   "metadata": {},
   "outputs": [
    {
     "name": "stdout",
     "output_type": "stream",
     "text": [
      "    교수님 성함    사무실 전화번호\n",
      "0  이태민 교수님  0335706378\n",
      "1  황득영 교수님  0335706376\n",
      "2  권세진 교수님  0335706377\n",
      "3  장영관 교수님  0335706585\n",
      "4  김창균 교수님  0335706587\n"
     ]
    }
   ],
   "source": [
    "'''\n",
    "5. 4번 문제에서 생성한 딕셔너리를 데이터 프레임으로 저장하시오.\n",
    "'''\n",
    "df=pd.DataFrame(AI)\n",
    "print(df)"
   ]
  },
  {
   "cell_type": "code",
   "execution_count": 61,
   "id": "99c4ef78-a739-4af1-a8be-0042f605bef3",
   "metadata": {},
   "outputs": [
    {
     "name": "stdout",
     "output_type": "stream",
     "text": [
      "       연령     학력  성과능력  성과태도\n",
      "0  26~30세  대학원졸업     5     4\n",
      "1  31세 이상  대학교졸업     4     3\n",
      "2  31세 이상  전문대졸업     4     2\n",
      "3  26~30세  대학원졸업     4     4\n",
      "4  20~25세  대학교졸업     4     4\n"
     ]
    }
   ],
   "source": [
    "'''\n",
    "6 아래와 같이 text파일을 만들어서 이를 csv파일로 변경하여 저장하시오.\n",
    "7. 해당 csv파일을 데이터 프레임으로 불러오시오.\n",
    "'''\n",
    "\n",
    "data1 = pd.read_csv(\"C:/Users/User/Desktop/새 폴더/Data1.csv\")\n",
    "print(data1)"
   ]
  }
 ],
 "metadata": {
  "kernelspec": {
   "display_name": "KANGJUGWANG",
   "language": "python",
   "name": "kangjugwang"
  },
  "language_info": {
   "codemirror_mode": {
    "name": "ipython",
    "version": 3
   },
   "file_extension": ".py",
   "mimetype": "text/x-python",
   "name": "python",
   "nbconvert_exporter": "python",
   "pygments_lexer": "ipython3",
   "version": "3.8.20"
  }
 },
 "nbformat": 4,
 "nbformat_minor": 5
}
