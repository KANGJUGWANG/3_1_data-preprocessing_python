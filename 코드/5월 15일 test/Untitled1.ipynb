{
 "cells": [
  {
   "cell_type": "code",
   "execution_count": 8,
   "id": "e84bcfc2",
   "metadata": {},
   "outputs": [
    {
     "name": "stdout",
     "output_type": "stream",
     "text": [
      "Collecting numpy\n",
      "  Downloading numpy-1.19.5-cp36-cp36m-win_amd64.whl (13.2 MB)\n",
      "Installing collected packages: numpy\n",
      "Successfully installed numpy-1.19.5\n",
      "Note: you may need to restart the kernel to use updated packages.\n"
     ]
    }
   ],
   "source": [
    "pip install numpy"
   ]
  },
  {
   "cell_type": "code",
   "execution_count": 9,
   "id": "41e4ccca",
   "metadata": {},
   "outputs": [
    {
     "name": "stdout",
     "output_type": "stream",
     "text": [
      "Collecting pandas\n",
      "  Downloading pandas-1.1.5-cp36-cp36m-win_amd64.whl (8.7 MB)\n",
      "Requirement already satisfied: numpy>=1.15.4 in c:\\users\\user\\anaconda3\\envs\\kang\\lib\\site-packages (from pandas) (1.19.5)\n",
      "Requirement already satisfied: pytz>=2017.2 in c:\\users\\user\\anaconda3\\envs\\kang\\lib\\site-packages (from pandas) (2025.2)\n",
      "Requirement already satisfied: python-dateutil>=2.7.3 in c:\\users\\user\\anaconda3\\envs\\kang\\lib\\site-packages (from pandas) (2.9.0.post0)\n",
      "Requirement already satisfied: six>=1.5 in c:\\users\\user\\anaconda3\\envs\\kang\\lib\\site-packages (from python-dateutil>=2.7.3->pandas) (1.17.0)\n",
      "Installing collected packages: pandas\n",
      "Successfully installed pandas-1.1.5\n",
      "Note: you may need to restart the kernel to use updated packages.\n"
     ]
    }
   ],
   "source": [
    "pip install pandas"
   ]
  },
  {
   "cell_type": "code",
   "execution_count": 11,
   "id": "886d4744",
   "metadata": {},
   "outputs": [],
   "source": [
    "import numpy as np\n",
    "import pandas as pd "
   ]
  },
  {
   "cell_type": "code",
   "execution_count": 77,
   "id": "2593ef10",
   "metadata": {},
   "outputs": [
    {
     "name": "stdout",
     "output_type": "stream",
     "text": [
      "Value1          10\n",
      "Value2          10\n",
      "Value3          10\n",
      "Model_Serial     0\n",
      "Category         0\n",
      "dtype: int64\n"
     ]
    }
   ],
   "source": [
    "# 1. data sample.csv파일을 불러와 각 변수별 결측치 개수를 도출하시오\n",
    "\n",
    "df = pd.read_csv(\"C:/Users/User/Desktop/새 폴더/Data_Sample.csv\")\n",
    "print(df.isnull().sum())"
   ]
  },
  {
   "cell_type": "code",
   "execution_count": 78,
   "id": "ddef118e",
   "metadata": {},
   "outputs": [
    {
     "name": "stdout",
     "output_type": "stream",
     "text": [
      "            A           B           C Model_Serial Category\n",
      "0   54.967142   78.769439  207.155747   Gamma-0001        C\n",
      "1   48.617357   93.690320  211.215690   Alpha-0002        C\n",
      "2   56.476885   94.859282  221.661025   Alpha-0003        C\n",
      "3   65.230299         NaN  221.076041   Gamma-0004        A\n",
      "4   47.658466   97.580714  172.446613    Beta-0005        C\n",
      "..        ...         ...         ...          ...      ...\n",
      "95  35.364851  105.779761  186.141808   Alpha-0096        A\n",
      "96  52.961203   86.742138  217.991997   Alpha-0097        A\n",
      "97  52.610553  102.305877  206.145990    Beta-0098        B\n",
      "98  50.051135  100.873131  216.257242    Beta-0099        B\n",
      "99  47.654129         NaN  212.592577    Beta-0100        A\n",
      "\n",
      "[100 rows x 5 columns]\n"
     ]
    }
   ],
   "source": [
    "# 2. value1,2,3을 각각 A,B,C로 변수명을 수정하시오.\n",
    "df = df.rename(columns = {'Value1' : 'A', 'Value2':'B', 'Value3':'C'})\n",
    "print(df)"
   ]
  },
  {
   "cell_type": "code",
   "execution_count": 80,
   "id": "2c0c1de7",
   "metadata": {},
   "outputs": [
    {
     "name": "stdout",
     "output_type": "stream",
     "text": [
      "A               float64\n",
      "B               float64\n",
      "C               float64\n",
      "Model_Serial     object\n",
      "Category         object\n",
      "dtype: object\n",
      "            A           B           C\n",
      "0   54.967142   78.769439  207.155747\n",
      "1   48.617357   93.690320  211.215690\n",
      "2   56.476885   94.859282  221.661025\n",
      "3   65.230299         NaN  221.076041\n",
      "4   47.658466   97.580714  172.446613\n",
      "..        ...         ...         ...\n",
      "95  35.364851  105.779761  186.141808\n",
      "96  52.961203   86.742138  217.991997\n",
      "97  52.610553  102.305877  206.145990\n",
      "98  50.051135  100.873131  216.257242\n",
      "99  47.654129         NaN  212.592577\n",
      "\n",
      "[100 rows x 3 columns]    Model_Serial Category\n",
      "0    Gamma-0001        C\n",
      "1    Alpha-0002        C\n",
      "2    Alpha-0003        C\n",
      "3    Gamma-0004        A\n",
      "4     Beta-0005        C\n",
      "..          ...      ...\n",
      "95   Alpha-0096        A\n",
      "96   Alpha-0097        A\n",
      "97    Beta-0098        B\n",
      "98    Beta-0099        B\n",
      "99    Beta-0100        A\n",
      "\n",
      "[100 rows x 2 columns]\n",
      "            A           B           C\n",
      "0   54.967142   78.769439  207.155747\n",
      "1   48.617357   93.690320  211.215690\n",
      "2   56.476885   94.859282  221.661025\n",
      "3   65.230299  100.888292  221.076041\n",
      "4   47.658466   97.580714  172.446613\n",
      "..        ...         ...         ...\n",
      "95  35.364851  105.779761  186.141808\n",
      "96  52.961203   86.742138  217.991997\n",
      "97  52.610553  102.305877  206.145990\n",
      "98  50.051135  100.873131  216.257242\n",
      "99  47.654129  100.888292  212.592577\n",
      "\n",
      "[100 rows x 3 columns]    Model_Serial Category\n",
      "0    Gamma-0001        C\n",
      "1    Alpha-0002        C\n",
      "2    Alpha-0003        C\n",
      "3    Gamma-0004        A\n",
      "4     Beta-0005        C\n",
      "..          ...      ...\n",
      "95   Alpha-0096        A\n",
      "96   Alpha-0097        A\n",
      "97    Beta-0098        B\n",
      "98    Beta-0099        B\n",
      "99    Beta-0100        A\n",
      "\n",
      "[100 rows x 2 columns]\n"
     ]
    }
   ],
   "source": [
    "#3. 범주형 변수와 연속형 변수를 따로 분리하고 A,B,C결측치 값을 중앙값으로 대체 하시오\n",
    "print(df.dtypes)\n",
    "## 중앙값 대체 전\n",
    "floats= df.select_dtypes(include =['float64']).columns\n",
    "objects= df.select_dtypes(include =['object']).columns\n",
    "df1 = df.loc[:, floats]\n",
    "df2 = df.loc[:, objects]\n",
    "print(df1, df2)\n",
    "## 중앙값 대체 후\n",
    "df1 = df1.fillna(df1.median())\n",
    "print(df1, df2)"
   ]
  },
  {
   "cell_type": "code",
   "execution_count": 81,
   "id": "15d3b319",
   "metadata": {},
   "outputs": [
    {
     "name": "stdout",
     "output_type": "stream",
     "text": [
      "            A           B           C Model_Serial Category\n",
      "0   54.967142   78.769439  207.155747   Gamma-0001        C\n",
      "1   48.617357   93.690320  211.215690   Alpha-0002        C\n",
      "2   56.476885   94.859282  221.661025   Alpha-0003        C\n",
      "3   65.230299  100.888292  221.076041   Gamma-0004        A\n",
      "4   47.658466   97.580714  172.446613    Beta-0005        C\n",
      "..        ...         ...         ...          ...      ...\n",
      "95  35.364851  105.779761  186.141808   Alpha-0096        A\n",
      "96  52.961203   86.742138  217.991997   Alpha-0097        A\n",
      "97  52.610553  102.305877  206.145990    Beta-0098        B\n",
      "98  50.051135  100.873131  216.257242    Beta-0099        B\n",
      "99  47.654129  100.888292  212.592577    Beta-0100        A\n",
      "\n",
      "[100 rows x 5 columns]\n"
     ]
    }
   ],
   "source": [
    "#4. 결측처리된 연속형 변수와 문자형 변수를 하라나로 합치시오.\n",
    "reset_df = pd.concat([df1, df2], axis =1) \n",
    "print(reset_df)"
   ]
  },
  {
   "cell_type": "code",
   "execution_count": 82,
   "id": "1f6b2f73",
   "metadata": {},
   "outputs": [
    {
     "name": "stdout",
     "output_type": "stream",
     "text": [
      "   Model_Serial Category       Total\n",
      "0    Gamma-0001        C  340.892328\n",
      "1    Alpha-0002        C  353.523368\n",
      "2    Alpha-0003        C  372.997193\n",
      "3    Gamma-0004        A  387.194632\n",
      "4     Beta-0005        C  317.685793\n",
      "..          ...      ...         ...\n",
      "95   Alpha-0096        A  327.286419\n",
      "96   Alpha-0097        A  357.695339\n",
      "97    Beta-0098        B  361.062420\n",
      "98    Beta-0099        B  367.181508\n",
      "99    Beta-0100        A  361.134997\n",
      "\n",
      "[100 rows x 3 columns]\n"
     ]
    }
   ],
   "source": [
    "#5.A+B+C변수 들을 합해 Total이라는 변수를 생성하고 ,A,B,C 변수를 삭제하시오\n",
    "reset_df['Total'] = reset_df['A']+reset_df['B'] + reset_df['C']\n",
    "reset_df = reset_df.drop(['A','B','C'], axis=1)\n",
    "print(reset_df)"
   ]
  },
  {
   "cell_type": "code",
   "execution_count": 83,
   "id": "066f50a9",
   "metadata": {},
   "outputs": [
    {
     "name": "stdout",
     "output_type": "stream",
     "text": [
      "   Category       Total   Model Serial\n",
      "0         C  340.892328   Gamma   0001\n",
      "1         C  353.523368   Alpha   0002\n",
      "2         C  372.997193   Alpha   0003\n",
      "3         A  387.194632   Gamma   0004\n",
      "4         C  317.685793    Beta   0005\n",
      "..      ...         ...     ...    ...\n",
      "95        A  327.286419   Alpha   0096\n",
      "96        A  357.695339   Alpha   0097\n",
      "97        B  361.062420    Beta   0098\n",
      "98        B  367.181508    Beta   0099\n",
      "99        A  361.134997    Beta   0100\n",
      "\n",
      "[100 rows x 4 columns]\n"
     ]
    }
   ],
   "source": [
    "#6. Model_serial 데이터를 Model, Serial의 이름을 가지느 두개의 변수명으로 나누시오\n",
    "reset_df[['Model' , 'Serial']] = reset_df['Model_Serial'].str.split('-',expand=True)\n",
    "reset_df = reset_df.drop(['Model_Serial'], axis=1)\n",
    "print(reset_df)"
   ]
  },
  {
   "cell_type": "code",
   "execution_count": 87,
   "id": "ed304234",
   "metadata": {},
   "outputs": [
    {
     "name": "stdout",
     "output_type": "stream",
     "text": [
      "['Gamma' 'Alpha' 'Beta' 'Gamma ' ' Alpha' ' Beta']\n",
      "        0\n",
      "0   Gamma\n",
      "1     NaN\n",
      "2     NaN\n",
      "3   Gamma\n",
      "4     NaN\n",
      "..    ...\n",
      "95    NaN\n",
      "96    NaN\n",
      "97    NaN\n",
      "98    NaN\n",
      "99    NaN\n",
      "\n",
      "[100 rows x 1 columns]\n"
     ]
    }
   ],
   "source": [
    "#7. Model 변수의 요소들을 확인하고, 잘못된 값들을 올바르게 수정하시오.\n",
    "# (이떄 해당 값들을 수정하고 다시 하나로 합쳐야 합니다)\n",
    "print(reset_df['Model'].unique())\n",
    "print(reset_df['Model'].str.extract(r'(Gamma)'))"
   ]
  },
  {
   "cell_type": "code",
   "execution_count": null,
   "id": "545bc7ab",
   "metadata": {},
   "outputs": [],
   "source": []
  }
 ],
 "metadata": {
  "kernelspec": {
   "display_name": "KANG",
   "language": "python",
   "name": "kang"
  },
  "language_info": {
   "codemirror_mode": {
    "name": "ipython",
    "version": 3
   },
   "file_extension": ".py",
   "mimetype": "text/x-python",
   "name": "python",
   "nbconvert_exporter": "python",
   "pygments_lexer": "ipython3",
   "version": "3.6.13"
  }
 },
 "nbformat": 4,
 "nbformat_minor": 5
}
