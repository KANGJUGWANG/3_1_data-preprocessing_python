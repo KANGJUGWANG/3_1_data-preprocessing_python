{
 "cells": [
  {
   "cell_type": "code",
   "execution_count": 55,
   "id": "95e82696",
   "metadata": {},
   "outputs": [
    {
     "data": {
      "text/plain": [
       "'\\n이전내용 복습 문제풀이\\n'"
      ]
     },
     "execution_count": 55,
     "metadata": {},
     "output_type": "execute_result"
    }
   ],
   "source": [
    "\"\"\"\n",
    "이전내용 복습 문제풀이\n",
    "\"\"\""
   ]
  },
  {
   "cell_type": "code",
   "execution_count": 59,
   "id": "40875514",
   "metadata": {},
   "outputs": [
    {
     "ename": "SyntaxError",
     "evalue": "invalid syntax (2403565453.py, line 1)",
     "output_type": "error",
     "traceback": [
      "\u001b[1;36m  Cell \u001b[1;32mIn[59], line 1\u001b[1;36m\u001b[0m\n\u001b[1;33m    pip install numpy\u001b[0m\n\u001b[1;37m        ^\u001b[0m\n\u001b[1;31mSyntaxError\u001b[0m\u001b[1;31m:\u001b[0m invalid syntax\n"
     ]
    }
   ],
   "source": [
    "pip install numpy\n",
    "import numpy as np"
   ]
  },
  {
   "cell_type": "code",
   "execution_count": 60,
   "id": "4b86fd80",
   "metadata": {},
   "outputs": [
    {
     "name": "stdout",
     "output_type": "stream",
     "text": [
      "[10, 20, 30, [1, 2, 3]]\n"
     ]
    }
   ],
   "source": [
    "'''\n",
    "1. 하나의 리스트를 만들고, 해당 리스트의 값의 결과가 첫번째 :10, 두번째 :20, 세번째 : 30, 네번째 : [1,2,3]\n",
    "값이 들어가도록 만드시오.\n",
    "'''\n",
    "data = [10,20,30,[1,2,3]]\n",
    "print(data)"
   ]
  },
  {
   "cell_type": "code",
   "execution_count": 61,
   "id": "30356366",
   "metadata": {},
   "outputs": [
    {
     "data": {
      "text/plain": [
       "[1, 2, 3]"
      ]
     },
     "execution_count": 61,
     "metadata": {},
     "output_type": "execute_result"
    }
   ],
   "source": [
    "'''\n",
    "2. 해당 리스트를 인덱싱해 [1,2,3]의 값이 도출되게 하시오\n",
    "'''\n",
    "data[3]"
   ]
  },
  {
   "cell_type": "code",
   "execution_count": 62,
   "id": "09338090",
   "metadata": {},
   "outputs": [],
   "source": [
    "'''\n",
    "3. 수학점수 : 20, 30, 40, 50, 60, 영어점수 : 50, 70, 50, 60, 90 으로 \n",
    "두개의 리스트로 생성하시오.\n",
    "'''\n",
    "math = [20,30,40,50,60]\n",
    "english = [50,70,50,60,90]"
   ]
  },
  {
   "cell_type": "code",
   "execution_count": 63,
   "id": "6c495309",
   "metadata": {},
   "outputs": [
    {
     "data": {
      "text/plain": [
       "'www.naver.com'"
      ]
     },
     "execution_count": 63,
     "metadata": {},
     "output_type": "execute_result"
    }
   ],
   "source": [
    "'''\n",
    "4.  https://www.youtube.com/ 를 www.naver.com으로 변경하시오.\n",
    "'''\n",
    "str = \"https://www.youtube.com/\"\n",
    "str[6:].replace(\"/\",\"\").replace(\"youtube\",\"naver\")"
   ]
  },
  {
   "cell_type": "code",
   "execution_count": 64,
   "id": "89cf2ecc",
   "metadata": {},
   "outputs": [
    {
     "name": "stdout",
     "output_type": "stream",
     "text": [
      "수학 : 40.0  영어 : 64.0\n"
     ]
    }
   ],
   "source": [
    "'''\n",
    "5. 해당 리스트의 값을 계산해 수학점수와 영어점수 각각의 값의 평균을 계산하시오.\n",
    "'''\n",
    "# 1) 배열 미변환 \n",
    "ma_m = sum(math)/len(math)\n",
    "eg_m = sum(english)/len(english)\n",
    "print(\"수학 :\" , ma_m , \" 영어 :\" ,eg_m)\n",
    "# 2) 배열 변환\n"
   ]
  },
  {
   "cell_type": "code",
   "execution_count": 65,
   "id": "b687167b",
   "metadata": {},
   "outputs": [
    {
     "name": "stdout",
     "output_type": "stream",
     "text": [
      "[1 2 4 5]\n"
     ]
    }
   ],
   "source": [
    "'''\n",
    "6.1,2,100,4,5, 900 해당 값을 가지는 배열을 생성하시고, 100과 900을 제거하시오.\n",
    "'''\n",
    "arr = np.array([1,2,100,4,5,900])\n",
    "arr = np.delete(arr ,[2,5])\n",
    "print(arr)"
   ]
  },
  {
   "cell_type": "code",
   "execution_count": 66,
   "id": "33b9a52d",
   "metadata": {},
   "outputs": [],
   "source": [
    "'''\n",
    "7. 문제 3번의 값을 딕셔너리 형태로 저장하시오.\n",
    "'''\n",
    "dic = {\"수학\" : ma, \"영어\" : eg}"
   ]
  },
  {
   "cell_type": "code",
   "execution_count": 67,
   "id": "917565a3",
   "metadata": {},
   "outputs": [
    {
     "name": "stdout",
     "output_type": "stream",
     "text": [
      "70\n"
     ]
    }
   ],
   "source": [
    "'''\n",
    "8. 3번의 리스트를 딕셔너리 형태로 저장하고\n",
    "수학점수 첫번째 값과, 영어점수 세번째 값의 합을 계산하시오.\n",
    "'''\n",
    "print(dic[\"수학\"][0] + dic[\"영어\"][2])"
   ]
  },
  {
   "cell_type": "code",
   "execution_count": 69,
   "id": "80809b91",
   "metadata": {},
   "outputs": [
    {
     "ename": "SyntaxError",
     "evalue": "invalid syntax (3480573388.py, line 5)",
     "output_type": "error",
     "traceback": [
      "\u001b[1;36m  Cell \u001b[1;32mIn[69], line 5\u001b[1;36m\u001b[0m\n\u001b[1;33m    pip install pandas\u001b[0m\n\u001b[1;37m        ^\u001b[0m\n\u001b[1;31mSyntaxError\u001b[0m\u001b[1;31m:\u001b[0m invalid syntax\n"
     ]
    }
   ],
   "source": [
    "\"\"\"\n",
    "4월 7일 강의 내용\n",
    "데이터 프레임(Data frame)\n",
    "\"\"\""
   ]
  },
  {
   "cell_type": "code",
   "execution_count": 71,
   "id": "c0c8afbe",
   "metadata": {},
   "outputs": [
    {
     "name": "stdout",
     "output_type": "stream",
     "text": [
      "Requirement already satisfied: pandas in c:\\users\\pc502\\anaconda3\\envs\\kangjugwang\\lib\\site-packages (2.0.3)\n",
      "Requirement already satisfied: python-dateutil>=2.8.2 in c:\\users\\pc502\\anaconda3\\envs\\kangjugwang\\lib\\site-packages (from pandas) (2.9.0.post0)\n",
      "Requirement already satisfied: pytz>=2020.1 in c:\\users\\pc502\\anaconda3\\envs\\kangjugwang\\lib\\site-packages (from pandas) (2025.2)\n",
      "Requirement already satisfied: tzdata>=2022.1 in c:\\users\\pc502\\anaconda3\\envs\\kangjugwang\\lib\\site-packages (from pandas) (2025.2)\n",
      "Requirement already satisfied: numpy>=1.20.3 in c:\\users\\pc502\\anaconda3\\envs\\kangjugwang\\lib\\site-packages (from pandas) (1.24.4)\n",
      "Requirement already satisfied: six>=1.5 in c:\\users\\pc502\\anaconda3\\envs\\kangjugwang\\lib\\site-packages (from python-dateutil>=2.8.2->pandas) (1.17.0)\n",
      "Note: you may need to restart the kernel to use updated packages.\n"
     ]
    }
   ],
   "source": [
    "pip install pandas"
   ]
  },
  {
   "cell_type": "code",
   "execution_count": 72,
   "id": "80d59f1b",
   "metadata": {},
   "outputs": [],
   "source": [
    "import pandas as pd"
   ]
  },
  {
   "cell_type": "code",
   "execution_count": 77,
   "id": "bcb76d5d",
   "metadata": {},
   "outputs": [
    {
     "name": "stdout",
     "output_type": "stream",
     "text": [
      "   0        1   2\n",
      "0  1    Alice  30\n",
      "1  2      Bob  25\n",
      "2  3  Charlle  35\n"
     ]
    }
   ],
   "source": [
    "data = np.array([\n",
    "    [1,'Alice', 30],\n",
    "    [2, 'Bob',25],\n",
    "    [3, 'Charlle',35]\n",
    "])\n",
    "df = pd.DataFrame(data)\n",
    "print(df)"
   ]
  },
  {
   "cell_type": "code",
   "execution_count": 80,
   "id": "d1272444",
   "metadata": {},
   "outputs": [
    {
     "name": "stdout",
     "output_type": "stream",
     "text": [
      "  ID     Name Age\n",
      "0  1    Alice  30\n",
      "1  2      Bob  25\n",
      "2  3  Charlle  35\n"
     ]
    }
   ],
   "source": [
    "df = pd.DataFrame(data, columns = ['ID','Name','Age'])\n",
    "print(df)"
   ]
  },
  {
   "cell_type": "code",
   "execution_count": 86,
   "id": "182be3d4",
   "metadata": {},
   "outputs": [
    {
     "name": "stdout",
     "output_type": "stream",
     "text": [
      "      name  Age      City\n",
      "0    Alice   25  New York\n",
      "1      Bob   30     Paris\n",
      "2  Charlie   35    London\n"
     ]
    }
   ],
   "source": [
    "data = {\n",
    "    'name': ['Alice', 'Bob', 'Charlie'],\n",
    "    'Age' : [25, 30, 35], \n",
    "    'City': ['New York', 'Paris', 'London'] }\n",
    "df = pd.DataFrame(data)\n",
    "print(df)"
   ]
  },
  {
   "cell_type": "code",
   "execution_count": 116,
   "id": "5fd74a54",
   "metadata": {},
   "outputs": [
    {
     "name": "stdout",
     "output_type": "stream",
     "text": [
      "헤더 있음 \n",
      "       Name   Age      City\n",
      "0    Alice    25  New York\n",
      "1      Bob    30     Paris\n",
      "2  Charlie    25    London\n",
      "\n",
      "헤더 없음 \n",
      "          0     1         2\n",
      "0     Name   Age      City\n",
      "1    Alice    25  New York\n",
      "2      Bob    30     Paris\n",
      "3  Charlie    25    London\n"
     ]
    },
    {
     "data": {
      "text/html": [
       "<div>\n",
       "<style scoped>\n",
       "    .dataframe tbody tr th:only-of-type {\n",
       "        vertical-align: middle;\n",
       "    }\n",
       "\n",
       "    .dataframe tbody tr th {\n",
       "        vertical-align: top;\n",
       "    }\n",
       "\n",
       "    .dataframe thead th {\n",
       "        text-align: right;\n",
       "    }\n",
       "</style>\n",
       "<table border=\"1\" class=\"dataframe\">\n",
       "  <thead>\n",
       "    <tr style=\"text-align: right;\">\n",
       "      <th></th>\n",
       "      <th>0</th>\n",
       "      <th>1</th>\n",
       "      <th>2</th>\n",
       "    </tr>\n",
       "  </thead>\n",
       "  <tbody>\n",
       "    <tr>\n",
       "      <th>0</th>\n",
       "      <td>Name</td>\n",
       "      <td>Age</td>\n",
       "      <td>City</td>\n",
       "    </tr>\n",
       "    <tr>\n",
       "      <th>1</th>\n",
       "      <td>Alice</td>\n",
       "      <td>25</td>\n",
       "      <td>New York</td>\n",
       "    </tr>\n",
       "    <tr>\n",
       "      <th>2</th>\n",
       "      <td>Bob</td>\n",
       "      <td>30</td>\n",
       "      <td>Paris</td>\n",
       "    </tr>\n",
       "    <tr>\n",
       "      <th>3</th>\n",
       "      <td>Charlie</td>\n",
       "      <td>25</td>\n",
       "      <td>London</td>\n",
       "    </tr>\n",
       "  </tbody>\n",
       "</table>\n",
       "</div>"
      ],
      "text/plain": [
       "         0     1         2\n",
       "0     Name   Age      City\n",
       "1    Alice    25  New York\n",
       "2      Bob    30     Paris\n",
       "3  Charlie    25    London"
      ]
     },
     "execution_count": 116,
     "metadata": {},
     "output_type": "execute_result"
    }
   ],
   "source": [
    "dp = pd.read_csv('C:/Users/PC502/Desktop/새 폴더/4_7.csv', header =0, encoding = 'cp949')\n",
    "print(\"헤더 있음 \\n\",dp)\n",
    "dp = pd.read_csv('C:/Users/PC502/Desktop/새 폴더/4_7.csv', header =None, encoding = 'cp949')\n",
    "print(\"\\n헤더 없음 \\n\",dp)\n",
    "dp"
   ]
  },
  {
   "cell_type": "code",
   "execution_count": 125,
   "id": "64ac88bb",
   "metadata": {},
   "outputs": [
    {
     "name": "stdout",
     "output_type": "stream",
     "text": [
      "(3, 3)\n",
      "Index(['name', 'Age', 'City'], dtype='object')\n",
      "name    object\n",
      "Age      int64\n",
      "City    object\n",
      "dtype: object\n",
      "        Age\n",
      "count   3.0\n",
      "mean   30.0\n",
      "std     5.0\n",
      "min    25.0\n",
      "25%    27.5\n",
      "50%    30.0\n",
      "75%    32.5\n",
      "max    35.0\n",
      "      name  Age      City\n",
      "0    Alice   25  New York\n",
      "1      Bob   30     Paris\n",
      "2  Charlie   35    London\n",
      "      name  Age      City\n",
      "0    Alice   25  New York\n",
      "1      Bob   30     Paris\n",
      "2  Charlie   35    London\n"
     ]
    }
   ],
   "source": [
    "print(df.shape)\n",
    "print(df.columns)\n",
    "print(df.dtypes)\n",
    "print(df.describe())\n",
    "print(df.head())\n",
    "print(df.tail())"
   ]
  }
 ],
 "metadata": {
  "kernelspec": {
   "display_name": "KANGJUGWANG",
   "language": "python",
   "name": "kangjugwang"
  },
  "language_info": {
   "codemirror_mode": {
    "name": "ipython",
    "version": 3
   },
   "file_extension": ".py",
   "mimetype": "text/x-python",
   "name": "python",
   "nbconvert_exporter": "python",
   "pygments_lexer": "ipython3",
   "version": "3.8.20"
  }
 },
 "nbformat": 4,
 "nbformat_minor": 5
}
