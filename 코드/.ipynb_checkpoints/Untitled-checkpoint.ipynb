{
 "cells": [
  {
   "cell_type": "code",
   "execution_count": 1,
   "id": "31bd584e",
   "metadata": {},
   "outputs": [
    {
     "name": "stdout",
     "output_type": "stream",
     "text": [
      "Collecting numpy\n",
      "Note: you may need to restart the kernel to use updated packages.\n",
      "  Downloading numpy-1.19.5-cp36-cp36m-win_amd64.whl (13.2 MB)\n",
      "Installing collected packages: numpy\n",
      "Successfully installed numpy-1.19.5\n"
     ]
    }
   ],
   "source": [
    "pip install numpy"
   ]
  },
  {
   "cell_type": "code",
   "execution_count": 2,
   "id": "4c9f9fd7",
   "metadata": {},
   "outputs": [
    {
     "name": "stdout",
     "output_type": "stream",
     "text": [
      "Collecting pandas\n",
      "Note: you may need to restart the kernel to use updated packages.\n",
      "  Downloading pandas-1.1.5-cp36-cp36m-win_amd64.whl (8.7 MB)\n",
      "Requirement already satisfied: numpy>=1.15.4 in c:\\users\\rkdwn\\anaconda3\\envs\\py_3_1\\lib\\site-packages (from pandas) (1.19.5)\n",
      "Requirement already satisfied: pytz>=2017.2 in c:\\users\\rkdwn\\anaconda3\\envs\\py_3_1\\lib\\site-packages (from pandas) (2025.2)\n",
      "Requirement already satisfied: python-dateutil>=2.7.3 in c:\\users\\rkdwn\\anaconda3\\envs\\py_3_1\\lib\\site-packages (from pandas) (2.9.0.post0)\n",
      "Requirement already satisfied: six>=1.5 in c:\\users\\rkdwn\\anaconda3\\envs\\py_3_1\\lib\\site-packages (from python-dateutil>=2.7.3->pandas) (1.17.0)\n",
      "Installing collected packages: pandas\n",
      "Successfully installed pandas-1.1.5\n"
     ]
    }
   ],
   "source": [
    "pip install pandas"
   ]
  },
  {
   "cell_type": "code",
   "execution_count": 5,
   "id": "be480a4b",
   "metadata": {},
   "outputs": [],
   "source": [
    "import numpy as np #배열\n",
    "import pandas as pd #데이터 프레임"
   ]
  },
  {
   "cell_type": "code",
   "execution_count": 3,
   "id": "1e544d90",
   "metadata": {},
   "outputs": [
    {
     "data": {
      "text/plain": [
       "(True, False)"
      ]
     },
     "execution_count": 3,
     "metadata": {},
     "output_type": "execute_result"
    }
   ],
   "source": [
    "## 데이터 타입 \n",
    "# 숫자(integer)\n",
    "1,1.1,-1,0\n",
    "# 문자(charter)\n",
    "\"asvd\"\n",
    "# 참,거짓(boolean)\n",
    "True, False"
   ]
  },
  {
   "cell_type": "code",
   "execution_count": 6,
   "id": "09cccdff",
   "metadata": {},
   "outputs": [],
   "source": [
    "## 변수 타입 base\n",
    "# 스칼라(단일 타입, 단일 값 , 단일 차원0)\n",
    "# 하위구조가 없는 가장 간단한 형태의 데이터\n",
    "a=1\n",
    "b=a\n",
    "c=True\n",
    "\n",
    "# 튜플(복수타입, 복수값, 복수 차원,수정 불가능)\n",
    "# 리스트와 동일하게 저장 가능하지만 저장이후 수정이 불가함\n",
    "a1=(1,2)\n",
    "b2 = (\"a\",\"b\")\n",
    "c2 = (True, False)\n",
    "d2 = (1, True)\n",
    "e2 = (1,(1,2))\n",
    "\n",
    "# 리스트(복수타입, 복수값, 복수차원,수정 가능)\n",
    "# 타입 상관없이 그룹화하여 저장 가능한 데이터 타입\n",
    "a2 = [1,2,3]\n",
    "b2 = [\"aa\", \"print\", \"hello\"]\n",
    "c2 = [True, False]\n",
    "d2= [\"a\",[1,[True]]]\n",
    "\n",
    "# 딕셔너리(복수타입, 복수값, 복수차원(행렬), 수정 가능) \n",
    "# 키값-벨류값이 1대1 대응되는 데이터 타입 \n",
    "a3= {\"이름\" : 1 , \"정보\" : 11}\n",
    "b3= {\"이름\" : [1,2,3,4,5] , \"정보\" : [11,22,33,44,55]}\n",
    "\n",
    "## 변수 타입(numpy)\n",
    "# 배열(array) : (단일타입, 복수값, 단일 차원, 수정 가능)\n",
    "array = np.array((1,2,3,4,5))\n",
    "array1 = np.array([1,2,3,4,5])\n",
    "x = [\"132\",123]\n",
    "array2 = np.array(x)\n",
    "\n",
    "## 변수타입(pands)\n",
    "# 데이터 프레임(DataFream) : (복수타입, 복수값, 복수차원, 수정 가능)\n",
    "df1 = pd.DataFrame(a1)# 튜플\n",
    "df2 = pd.DataFrame(a2)# 리스트\n",
    "df2 = pd.DataFrame(b3[\"이름\"])#딕셔너리\n",
    "df3 = pd.DataFrame(array)"
   ]
  },
  {
   "cell_type": "code",
   "execution_count": 7,
   "id": "6121e80e",
   "metadata": {},
   "outputs": [],
   "source": [
    "## 인덱싱\n",
    "# 복수의 데이터(문자열, 배열, 리스트, 튜플, 데이터 프레임)를 가지는 변수타입은\n",
    "# 특정 값에 접근하는 방법으로 0부터 순서대로 인덱스값을 가진다\n",
    "\n",
    "#인덱싱\n",
    "a1[0]\n",
    "a2[0]\n",
    "a22 = a2[-1:]\n"
   ]
  },
  {
   "cell_type": "code",
   "execution_count": 8,
   "id": "5647f7a5",
   "metadata": {},
   "outputs": [
    {
     "data": {
      "text/plain": [
       "(1, 3, 2)"
      ]
     },
     "execution_count": 8,
     "metadata": {},
     "output_type": "execute_result"
    }
   ],
   "source": [
    "np.array([[[1,2], [4,5], [7,8]]]).shape"
   ]
  },
  {
   "cell_type": "code",
   "execution_count": 94,
   "id": "869e2a04",
   "metadata": {},
   "outputs": [
    {
     "ename": "SyntaxError",
     "evalue": "invalid syntax (<ipython-input-94-054565b3a383>, line 52)",
     "output_type": "error",
     "traceback": [
      "\u001b[1;36m  File \u001b[1;32m\"<ipython-input-94-054565b3a383>\"\u001b[1;36m, line \u001b[1;32m52\u001b[0m\n\u001b[1;33m    x2_1{\"추가\"}=np.array([\"일\",\"이\",\"삼\"]\u001b[0m\n\u001b[1;37m        ^\u001b[0m\n\u001b[1;31mSyntaxError\u001b[0m\u001b[1;31m:\u001b[0m invalid syntax\n"
     ]
    }
   ],
   "source": [
    "## 함수정리\n",
    "# 배열 생성\n",
    "arr = np.array([1,2,3])\n",
    "# 데이터 프레임 생성\n",
    "df = pd.DataFrame([[1,2,3],[2,3,4]],columns=[\"11\",\"22\",\"33\"])\n",
    "\n",
    "x= \"내일은 시험이 있는 날 입니다.\"\n",
    "y=[\"내일은 시험이 있는 날 입니다.\"]\n",
    "print(x, y)\n",
    "\n",
    "\n",
    "print(\"\\n--------\\n\")\n",
    "# 인덱싱 활용함수 (base)\n",
    "print(x.replace(\"내일\", \"오늘\"))#    **************\n",
    "print(x.index(\"은\"))\n",
    "y.append(\" 재수강은 안됩니다.\")\n",
    "print(y)\n",
    "y.pop(y.index(\" 재수강은 안됩니다.\"))\n",
    "print(y)\n",
    "y.insert(0,\"시험은 싫지만\")\n",
    "print(y)\n",
    "\n",
    "\n",
    "print(\"\\n--------\\n\")\n",
    "#인덱싱 활용함수(array)\n",
    "x1=np.array([\"시험은 싫습니다.\"])# 생성\n",
    "print(x1)\n",
    "x1 =np.append(x1,\"정말 싫습니다.\")# 말단 추가\n",
    "print(x1)\n",
    "x1 =np.insert(x1,1,\"정말 정말 싫습니다.\")# 중간 추가\n",
    "print(x1)\n",
    "x1 =np.delete(x1,[1,2])# 지정 삭제#    **************\n",
    "print(x1)\n",
    "x1_1 = np.vstack((x1,x1))#    **************\n",
    "print(x1_1)\n",
    "x1_2 = np.hstack((x1_1, x1_1))#    **************\n",
    "print(x1_2)\n",
    "\n",
    "\n",
    "print(\"\\n--------\\n\")\n",
    "# 딕셔너리 사용함수\n",
    "x2 = {\"이름\":[\"하나\",\"둘\",\"셋\"], \"번호\" :[1,2,3]}\n",
    "print(x2)\n",
    "print(x2[\"이름\"])\n",
    "print(x2[\"이름\"][0])\n",
    "x2_1  = {\"이름\" : np.array([\"하나\",\"둘\",\"셋\"]), \"번호\":np.array([11,22,33])}\n",
    "print(x2_1)\n",
    "print(x2_1[\"이름\"])\n",
    "print(x2_1[\"이름\"][0])\n",
    "print(x2_1[\"이름\"][x2_1[\"이름\"]==\"둘\"])\n",
    "del x2_1[\"번호\"]#    **************\n",
    "\n",
    "\n",
    "print(\"\\n--------\\n\")\n",
    "# DataFrame사용함수\n",
    "x3 = pd.DataFrame([\"R\",\"PYTHON\",\"JAVA\",\"C\",\"SQL\"],columns=[\"CODE\"])\n",
    "print(x3)\n",
    "x3_1 = pd.DataFrame(x2)\n",
    "print(x3_1)\n",
    "print(x3_1.columns)#    **************\n",
    "print(x3_1.dtypes)# type <-x , dtypes <-o    **************\n",
    "print(x3_1.describe())#num 만 가능    **************\n",
    "print(x3_1.head())\n",
    "print(x3_1.tail())\n",
    "\n",
    "print(\"x3_2 = pd.read_csv(\"\",head = [None,0],encoding=\\\"cp949,euc-kr,utf-8\\\")\")"
   ]
  }
 ],
 "metadata": {
  "kernelspec": {
   "display_name": "py_3_1",
   "language": "python",
   "name": "py_3_1"
  },
  "language_info": {
   "codemirror_mode": {
    "name": "ipython",
    "version": 3
   },
   "file_extension": ".py",
   "mimetype": "text/x-python",
   "name": "python",
   "nbconvert_exporter": "python",
   "pygments_lexer": "ipython3",
   "version": "3.6.13"
  }
 },
 "nbformat": 4,
 "nbformat_minor": 5
}
